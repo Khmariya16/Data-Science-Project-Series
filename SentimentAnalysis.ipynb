{
  "nbformat": 4,
  "nbformat_minor": 0,
  "metadata": {
    "colab": {
      "provenance": [],
      "authorship_tag": "ABX9TyMfTJ2HjkRrPnTMczQbWzTq"
    },
    "kernelspec": {
      "name": "python3",
      "display_name": "Python 3"
    },
    "language_info": {
      "name": "python"
    }
  },
  "cells": [
    {
      "cell_type": "code",
      "execution_count": 27,
      "metadata": {
        "id": "P9AX7SzyDoZv"
      },
      "outputs": [],
      "source": [
        "import pandas as pd"
      ]
    },
    {
      "cell_type": "code",
      "source": [
        "# Try a different encoding, for example 'latin-1'\n",
        "train_df = pd.read_csv('train.csv', encoding='latin-1')\n",
        "test_df = pd.read_csv('test.csv', encoding='latin-1')"
      ],
      "metadata": {
        "id": "PZBzJr7OD6Vv"
      },
      "execution_count": 28,
      "outputs": []
    },
    {
      "cell_type": "code",
      "source": [
        "# Display the first few rows of the training dataset\n",
        "print(train_df.head())"
      ],
      "metadata": {
        "colab": {
          "base_uri": "https://localhost:8080/"
        },
        "id": "KanvA78KEJSd",
        "outputId": "b23b4370-14f5-49ef-df10-f92640177e6d"
      },
      "execution_count": 29,
      "outputs": [
        {
          "output_type": "stream",
          "name": "stdout",
          "text": [
            "       textID                                               text  \\\n",
            "0  cb774db0d1                I`d have responded, if I were going   \n",
            "1  549e992a42      Sooo SAD I will miss you here in San Diego!!!   \n",
            "2  088c60f138                          my boss is bullying me...   \n",
            "3  9642c003ef                     what interview! leave me alone   \n",
            "4  358bd9e861   Sons of ****, why couldn`t they put them on t...   \n",
            "\n",
            "                         selected_text sentiment Time of Tweet Age of User  \\\n",
            "0  I`d have responded, if I were going   neutral       morning        0-20   \n",
            "1                             Sooo SAD  negative          noon       21-30   \n",
            "2                          bullying me  negative         night       31-45   \n",
            "3                       leave me alone  negative       morning       46-60   \n",
            "4                        Sons of ****,  negative          noon       60-70   \n",
            "\n",
            "       Country  Population -2020  Land Area (Km²)  Density (P/Km²)  \n",
            "0  Afghanistan          38928346         652860.0               60  \n",
            "1      Albania           2877797          27400.0              105  \n",
            "2      Algeria          43851044        2381740.0               18  \n",
            "3      Andorra             77265            470.0              164  \n",
            "4       Angola          32866272        1246700.0               26  \n"
          ]
        }
      ]
    },
    {
      "cell_type": "code",
      "source": [
        "# Check the structure and summary statistics\n",
        "print(train_df.info())\n",
        "print(train_df.describe())"
      ],
      "metadata": {
        "colab": {
          "base_uri": "https://localhost:8080/"
        },
        "id": "uh_0gF2YENDB",
        "outputId": "6b6587b6-fe53-4982-c077-56ab6cdfb52b"
      },
      "execution_count": 30,
      "outputs": [
        {
          "output_type": "stream",
          "name": "stdout",
          "text": [
            "<class 'pandas.core.frame.DataFrame'>\n",
            "RangeIndex: 27481 entries, 0 to 27480\n",
            "Data columns (total 10 columns):\n",
            " #   Column            Non-Null Count  Dtype  \n",
            "---  ------            --------------  -----  \n",
            " 0   textID            27481 non-null  object \n",
            " 1   text              27480 non-null  object \n",
            " 2   selected_text     27480 non-null  object \n",
            " 3   sentiment         27481 non-null  object \n",
            " 4   Time of Tweet     27481 non-null  object \n",
            " 5   Age of User       27481 non-null  object \n",
            " 6   Country           27481 non-null  object \n",
            " 7   Population -2020  27481 non-null  int64  \n",
            " 8   Land Area (Km²)   27481 non-null  float64\n",
            " 9   Density (P/Km²)   27481 non-null  int64  \n",
            "dtypes: float64(1), int64(2), object(7)\n",
            "memory usage: 2.1+ MB\n",
            "None\n",
            "       Population -2020  Land Area (Km²)  Density (P/Km²)\n",
            "count      2.748100e+04     2.748100e+04     27481.000000\n",
            "mean       4.018497e+07     6.621730e+05       357.686583\n",
            "std        1.504946e+08     1.807425e+06      2013.750702\n",
            "min        8.010000e+02     0.000000e+00         2.000000\n",
            "25%        1.968001e+06     2.281000e+04        35.000000\n",
            "50%        8.655535e+06     1.118900e+05        89.000000\n",
            "75%        2.843594e+07     5.279700e+05       214.000000\n",
            "max        1.439324e+09     1.637687e+07     26337.000000\n"
          ]
        }
      ]
    },
    {
      "cell_type": "code",
      "source": [
        "# Check for missing values\n",
        "print(train_df.isnull().sum())"
      ],
      "metadata": {
        "colab": {
          "base_uri": "https://localhost:8080/"
        },
        "id": "2vRpcTIcEQLG",
        "outputId": "b6943611-9bc5-4c41-f680-1ef73e931aa5"
      },
      "execution_count": 31,
      "outputs": [
        {
          "output_type": "stream",
          "name": "stdout",
          "text": [
            "textID              0\n",
            "text                1\n",
            "selected_text       1\n",
            "sentiment           0\n",
            "Time of Tweet       0\n",
            "Age of User         0\n",
            "Country             0\n",
            "Population -2020    0\n",
            "Land Area (Km²)     0\n",
            "Density (P/Km²)     0\n",
            "dtype: int64\n"
          ]
        }
      ]
    },
    {
      "cell_type": "code",
      "source": [
        "import re\n",
        "import nltk\n",
        "from nltk.corpus import stopwords\n",
        "from nltk.tokenize import word_tokenize\n",
        "from nltk.stem import WordNetLemmatizer"
      ],
      "metadata": {
        "id": "FIh5-VB4ES6W"
      },
      "execution_count": 32,
      "outputs": []
    },
    {
      "cell_type": "code",
      "source": [
        "nltk.download('punkt')\n",
        "nltk.download('stopwords')\n",
        "nltk.download('wordnet')"
      ],
      "metadata": {
        "colab": {
          "base_uri": "https://localhost:8080/"
        },
        "id": "R0g8Vsp3EWkM",
        "outputId": "37e108f7-13cb-47af-d466-8ab265cf4552"
      },
      "execution_count": 33,
      "outputs": [
        {
          "output_type": "stream",
          "name": "stderr",
          "text": [
            "[nltk_data] Downloading package punkt to /root/nltk_data...\n",
            "[nltk_data]   Package punkt is already up-to-date!\n",
            "[nltk_data] Downloading package stopwords to /root/nltk_data...\n",
            "[nltk_data]   Package stopwords is already up-to-date!\n",
            "[nltk_data] Downloading package wordnet to /root/nltk_data...\n",
            "[nltk_data]   Package wordnet is already up-to-date!\n"
          ]
        },
        {
          "output_type": "execute_result",
          "data": {
            "text/plain": [
              "True"
            ]
          },
          "metadata": {},
          "execution_count": 33
        }
      ]
    },
    {
      "cell_type": "code",
      "source": [
        "# Initialize the lemmatizer\n",
        "lemmatizer = WordNetLemmatizer()"
      ],
      "metadata": {
        "id": "m6UP3tO5EZWM"
      },
      "execution_count": 35,
      "outputs": []
    },
    {
      "cell_type": "code",
      "source": [
        "# Preprocessing function\n",
        "def preprocess_text(text):\n",
        "    # Handle potential non-string values\n",
        "    if not isinstance(text, str):\n",
        "        text = str(text)  # Convert to string if not already\n",
        "\n",
        "    # Lowercase the text\n",
        "    text = text.lower()\n",
        "    # Remove special characters\n",
        "    text = re.sub(r'\\W', ' ', text)\n",
        "    # Remove stop words\n",
        "    tokens = word_tokenize(text)\n",
        "    tokens = [word for word in tokens if word not in stopwords.words('english')]\n",
        "    # Lemmatize the tokens\n",
        "    tokens = [lemmatizer.lemmatize(word) for word in tokens]\n",
        "    return ' '.join(tokens)\n",
        "\n",
        "# Apply preprocessing to the text columns\n",
        "train_df['clean_text'] = train_df['text'].apply(preprocess_text)\n",
        "test_df['clean_text'] = test_df['text'].apply(preprocess_text)"
      ],
      "metadata": {
        "id": "3GhuOmGuE74H"
      },
      "execution_count": 36,
      "outputs": []
    },
    {
      "cell_type": "code",
      "source": [
        "import matplotlib.pyplot as plt\n",
        "import seaborn as sns\n",
        "\n",
        "# Distribution of sentiment labels\n",
        "sns.countplot(x='sentiment', data=train_df)\n",
        "plt.title('Distribution of Sentiment Labels')\n",
        "plt.show()\n",
        "\n",
        "# Visualization of text length distribution\n",
        "train_df['text_length'] = train_df['clean_text'].apply(len)\n",
        "sns.histplot(train_df['text_length'], bins=20)\n",
        "plt.title('Distribution of Text Length')\n",
        "plt.show()\n"
      ],
      "metadata": {
        "colab": {
          "base_uri": "https://localhost:8080/",
          "height": 927
        },
        "id": "4Pt5xgjxE_Tz",
        "outputId": "4e9a81ec-c25f-46cc-8253-c56f373999b9"
      },
      "execution_count": 37,
      "outputs": [
        {
          "output_type": "display_data",
          "data": {
            "text/plain": [
              "<Figure size 640x480 with 1 Axes>"
            ],
            "image/png": "[encoded data removed]"
          },
          "metadata": {}
        },
        {
          "output_type": "display_data",
          "data": {
            "text/plain": [
              "<Figure size 640x480 with 1 Axes>"
            ],
            "image/png": "[encoded data removed]"
          },
          "metadata": {}
        }
      ]
    },
    {
      "cell_type": "code",
      "source": [
        "from sklearn.feature_extraction.text import TfidfVectorizer\n",
        "\n",
        "# Initialize TF-IDF Vectorizer\n",
        "tfidf_vectorizer = TfidfVectorizer(max_features=5000)\n",
        "\n",
        "# Fit and transform the training data\n",
        "X_train_tfidf = tfidf_vectorizer.fit_transform(train_df['clean_text'])\n",
        "\n",
        "# Transform the test data\n",
        "X_test_tfidf = tfidf_vectorizer.transform(test_df['clean_text'])\n",
        "\n",
        "# Sentiment labels as target variable\n",
        "y_train = train_df['sentiment']\n"
      ],
      "metadata": {
        "id": "2xmhaaJfFT5Q"
      },
      "execution_count": 38,
      "outputs": []
    },
    {
      "cell_type": "code",
      "source": [
        "from sklearn.model_selection import train_test_split\n",
        "from sklearn.naive_bayes import MultinomialNB\n",
        "from sklearn.svm import SVC\n",
        "from sklearn.metrics import classification_report\n",
        "\n",
        "# Split the data into training and validation sets\n",
        "X_train, X_val, y_train, y_val = train_test_split(X_train_tfidf, y_train, test_size=0.2, random_state=42)\n",
        "\n",
        "# Naive Bayes model\n",
        "nb_model = MultinomialNB()\n",
        "nb_model.fit(X_train, y_train)\n",
        "y_pred_nb = nb_model.predict(X_val)\n",
        "print(\"Naive Bayes Classification Report:\\n\", classification_report(y_val, y_pred_nb))\n",
        "\n",
        "# Support Vector Machine model\n",
        "svm_model = SVC(kernel='linear')\n",
        "svm_model.fit(X_train, y_train)\n",
        "y_pred_svm = svm_model.predict(X_val)\n",
        "print(\"SVM Classification Report:\\n\", classification_report(y_val, y_pred_svm))\n"
      ],
      "metadata": {
        "colab": {
          "base_uri": "https://localhost:8080/"
        },
        "id": "78QshTkrFb4s",
        "outputId": "295a8380-606e-42b0-f136-bc14498a12e1"
      },
      "execution_count": 39,
      "outputs": [
        {
          "output_type": "stream",
          "name": "stdout",
          "text": [
            "Naive Bayes Classification Report:\n",
            "               precision    recall  f1-score   support\n",
            "\n",
            "    negative       0.73      0.51      0.60      1562\n",
            "     neutral       0.56      0.76      0.65      2230\n",
            "    positive       0.73      0.60      0.66      1705\n",
            "\n",
            "    accuracy                           0.64      5497\n",
            "   macro avg       0.67      0.62      0.63      5497\n",
            "weighted avg       0.66      0.64      0.64      5497\n",
            "\n",
            "SVM Classification Report:\n",
            "               precision    recall  f1-score   support\n",
            "\n",
            "    negative       0.76      0.60      0.67      1562\n",
            "     neutral       0.64      0.77      0.70      2230\n",
            "    positive       0.78      0.71      0.74      1705\n",
            "\n",
            "    accuracy                           0.71      5497\n",
            "   macro avg       0.73      0.70      0.71      5497\n",
            "weighted avg       0.72      0.71      0.71      5497\n",
            "\n"
          ]
        }
      ]
    }
  ]
}